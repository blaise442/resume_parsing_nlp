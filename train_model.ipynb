{
 "cells": [
  {
   "cell_type": "code",
   "execution_count": null,
   "metadata": {},
   "outputs": [],
   "source": [
    "\"\"\"\n",
    "we are loading the preprocessed data and parsed resume data and combining them into a single dataset. \n",
    "We are then splitting the dataset into training and testing sets using the train_test_split function from scikit-learn.\n",
    "We are vectorizing the text data using the TfidfVectorizer class from scikit-learn.\n",
    "TfidfVectorizer converts text into numerical features that can be used in machine learning algorithms.\n",
    "We are then training three machine learning models - Logistic Regression,\n",
    "Support Vector Machine, and Random Forest Classifier - using the training data. \n",
    "We are then predicting the labels for the test data and calculating the accuracy of each model using the accuracy_score function from scikit-learn.\n",
    "\"\"\"\n",
    "import pandas as pd\n",
    "from sklearn.feature_extraction.text import TfidfVectorizer\n",
    "from sklearn.model_selection import train_test_split\n",
    "from sklearn.linear_model import LogisticRegression\n",
    "from sklearn.svm import SVC\n",
    "from sklearn.ensemble import RandomForestClassifier\n",
    "from sklearn.metrics import accuracy_score\n",
    "\n",
    "# Load the preprocessed data and parsed resume data\n",
    "preprocessed_data = pd.read_csv('preprocessed_data.csv')\n",
    "parsed_resume_data = pd.read_csv('parsed_resume_data.csv')\n",
    "\n",
    "# Combine the preprocessed data and parsed resume data\n",
    "data = pd.concat([preprocessed_data, parsed_resume_data], axis=1)\n",
    "\n",
    "# Split the data into training and testing sets\n",
    "X_train, X_test, y_train, y_test = train_test_split(data.drop('Label', axis=1), data['Label'], test_size=0.2, random_state=42)\n",
    "\n",
    "# Vectorize the data using TfidfVectorizer\n",
    "vectorizer = TfidfVectorizer()\n",
    "X_train = vectorizer.fit_transform(X_train['Text'])\n",
    "X_test = vectorizer.transform(X_test['Text'])\n",
    "\n",
    "# Train the logistic regression model\n",
    "lr_model = LogisticRegression()\n",
    "lr_model.fit(X_train, y_train)\n",
    "y_pred = lr_model.predict(X_test)\n",
    "accuracy = accuracy_score(y_test, y_pred)\n",
    "print('Logistic Regression Accuracy:', accuracy)\n",
    "\n",
    "# Train the support vector machine model\n",
    "svm_model = SVC()\n",
    "svm_model.fit(X_train, y_train)\n",
    "y_pred = svm_model.predict(X_test)\n",
    "accuracy = accuracy_score(y_test, y_pred)\n",
    "print('Support Vector Machine Accuracy:', accuracy)\n",
    "\n",
    "# Train the random forest classifier model\n",
    "rf_model = RandomForestClassifier()\n",
    "rf_model.fit(X_train, y_train)\n",
    "y_pred = rf_model.predict(X_test)\n",
    "accuracy = accuracy_score(y_test, y_pred)\n",
    "print('Random Forest Classifier Accuracy:', accuracy)\n",
    "\n",
    "\n"
   ]
  }
 ],
 "metadata": {
  "kernelspec": {
   "display_name": "venv",
   "language": "python",
   "name": "python3"
  },
  "language_info": {
   "name": "python",
   "version": "3.9.7"
  },
  "orig_nbformat": 4,
  "vscode": {
   "interpreter": {
    "hash": "ceacbb2adff1292ba40feb4d520f2483245531d5abf70736b989def36a49705e"
   }
  }
 },
 "nbformat": 4,
 "nbformat_minor": 2
}
